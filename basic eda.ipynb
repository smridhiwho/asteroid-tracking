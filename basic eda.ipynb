{
 "cells": [
  {
   "cell_type": "code",
   "execution_count": 74,
   "id": "0d7344d4",
   "metadata": {},
   "outputs": [],
   "source": [
    "import pandas as pd\n",
    "import numpy as np\n",
    "import matplotlib.pyplot as plt\n",
    "import seaborn as sns"
   ]
  },
  {
   "cell_type": "code",
   "execution_count": 97,
   "id": "97e6507a",
   "metadata": {},
   "outputs": [
    {
     "data": {
      "text/html": [
       "<div>\n",
       "<style scoped>\n",
       "    .dataframe tbody tr th:only-of-type {\n",
       "        vertical-align: middle;\n",
       "    }\n",
       "\n",
       "    .dataframe tbody tr th {\n",
       "        vertical-align: top;\n",
       "    }\n",
       "\n",
       "    .dataframe thead th {\n",
       "        text-align: right;\n",
       "    }\n",
       "</style>\n",
       "<table border=\"1\" class=\"dataframe\">\n",
       "  <thead>\n",
       "    <tr style=\"text-align: right;\">\n",
       "      <th></th>\n",
       "      <th>Asteroid Number</th>\n",
       "      <th>Asteroid</th>\n",
       "      <th>N-sig</th>\n",
       "      <th>Ref.</th>\n",
       "      <th>YYYY-mmm-DD</th>\n",
       "      <th>MMD(AU)</th>\n",
       "      <th>Vrel(km/s)</th>\n",
       "    </tr>\n",
       "  </thead>\n",
       "  <tbody>\n",
       "    <tr>\n",
       "      <th>0</th>\n",
       "      <td>NaN</td>\n",
       "      <td>1999 TO13</td>\n",
       "      <td>280</td>\n",
       "      <td>JPL#13</td>\n",
       "      <td>10-05-1999</td>\n",
       "      <td>0.0312</td>\n",
       "      <td>14.96</td>\n",
       "    </tr>\n",
       "    <tr>\n",
       "      <th>1</th>\n",
       "      <td>NaN</td>\n",
       "      <td>1999 SG10</td>\n",
       "      <td>690</td>\n",
       "      <td>JPL#22</td>\n",
       "      <td>10/14/1999</td>\n",
       "      <td>0.0909</td>\n",
       "      <td>19.77</td>\n",
       "    </tr>\n",
       "    <tr>\n",
       "      <th>2</th>\n",
       "      <td>NaN</td>\n",
       "      <td>1999 UR</td>\n",
       "      <td>320</td>\n",
       "      <td>JPL#02</td>\n",
       "      <td>10/22/1999</td>\n",
       "      <td>0.0470</td>\n",
       "      <td>10.01</td>\n",
       "    </tr>\n",
       "    <tr>\n",
       "      <th>3</th>\n",
       "      <td>NaN</td>\n",
       "      <td>1999 VF22</td>\n",
       "      <td>300</td>\n",
       "      <td>JPL#02</td>\n",
       "      <td>10/31/1999</td>\n",
       "      <td>0.0372</td>\n",
       "      <td>25.54</td>\n",
       "    </tr>\n",
       "    <tr>\n",
       "      <th>4</th>\n",
       "      <td>NaN</td>\n",
       "      <td>1999 VR6</td>\n",
       "      <td>110</td>\n",
       "      <td>JPL#04</td>\n",
       "      <td>11/18/1999</td>\n",
       "      <td>0.0759</td>\n",
       "      <td>21.58</td>\n",
       "    </tr>\n",
       "  </tbody>\n",
       "</table>\n",
       "</div>"
      ],
      "text/plain": [
       "   Asteroid Number             Asteroid  N-sig   Ref.    YYYY-mmm-DD  MMD(AU)  \\\n",
       "0              NaN  1999 TO13              280  JPL#13    10-05-1999   0.0312   \n",
       "1              NaN  1999 SG10              690  JPL#22    10/14/1999   0.0909   \n",
       "2              NaN  1999 UR                320  JPL#02    10/22/1999   0.0470   \n",
       "3              NaN  1999 VF22              300  JPL#02    10/31/1999   0.0372   \n",
       "4              NaN  1999 VR6               110  JPL#04    11/18/1999   0.0759   \n",
       "\n",
       "   Vrel(km/s)  \n",
       "0       14.96  \n",
       "1       19.77  \n",
       "2       10.01  \n",
       "3       25.54  \n",
       "4       21.58  "
      ]
     },
     "execution_count": 97,
     "metadata": {},
     "output_type": "execute_result"
    }
   ],
   "source": [
    "df = pd.read_csv(\"asteroid.csv\", low_memory=False)\n",
    "df.head()"
   ]
  },
  {
   "cell_type": "code",
   "execution_count": 98,
   "id": "03bdccb2",
   "metadata": {},
   "outputs": [],
   "source": [
    "##EDA"
   ]
  },
  {
   "cell_type": "code",
   "execution_count": 99,
   "id": "264020d5",
   "metadata": {},
   "outputs": [],
   "source": [
    "df.rename(columns = {'YYYY-mmm-DD':'Approach Date'}, inplace = True)"
   ]
  },
  {
   "cell_type": "code",
   "execution_count": 100,
   "id": "eba0f1e3",
   "metadata": {},
   "outputs": [
    {
     "name": "stdout",
     "output_type": "stream",
     "text": [
      "<class 'pandas.core.frame.DataFrame'>\n",
      "RangeIndex: 498 entries, 0 to 497\n",
      "Data columns (total 7 columns):\n",
      " #   Column           Non-Null Count  Dtype  \n",
      "---  ------           --------------  -----  \n",
      " 0   Asteroid Number  280 non-null    float64\n",
      " 1   Asteroid         498 non-null    object \n",
      " 2   N-sig            498 non-null    int64  \n",
      " 3   Ref.             498 non-null    object \n",
      " 4   Approach Date    498 non-null    object \n",
      " 5   MMD(AU)          498 non-null    float64\n",
      " 6   Vrel(km/s)       498 non-null    float64\n",
      "dtypes: float64(3), int64(1), object(3)\n",
      "memory usage: 27.4+ KB\n"
     ]
    }
   ],
   "source": [
    "df.info()"
   ]
  },
  {
   "cell_type": "code",
   "execution_count": 101,
   "id": "1f39aff9",
   "metadata": {},
   "outputs": [
    {
     "data": {
      "text/plain": [
       "Asteroid Number    43.7751\n",
       "Asteroid            0.0000\n",
       "N-sig               0.0000\n",
       "Ref.                0.0000\n",
       "Approach Date       0.0000\n",
       "MMD(AU)             0.0000\n",
       "Vrel(km/s)          0.0000\n",
       "dtype: float64"
      ]
     },
     "execution_count": 101,
     "metadata": {},
     "output_type": "execute_result"
    }
   ],
   "source": [
    "# df.isnull().sum()\n",
    "df.isnull().sum() / len(df) * 100"
   ]
  },
  {
   "cell_type": "code",
   "execution_count": 102,
   "id": "c5b06c50",
   "metadata": {},
   "outputs": [],
   "source": [
    "#since asteroid number is absent for almost half of the entries, we can drop it as we already hvae asteroid id for mapping. \n",
    "df = df.drop(['Asteroid Number'], axis=1)"
   ]
  },
  {
   "cell_type": "code",
   "execution_count": 103,
   "id": "ab827653",
   "metadata": {},
   "outputs": [
    {
     "data": {
      "text/html": [
       "<div>\n",
       "<style scoped>\n",
       "    .dataframe tbody tr th:only-of-type {\n",
       "        vertical-align: middle;\n",
       "    }\n",
       "\n",
       "    .dataframe tbody tr th {\n",
       "        vertical-align: top;\n",
       "    }\n",
       "\n",
       "    .dataframe thead th {\n",
       "        text-align: right;\n",
       "    }\n",
       "</style>\n",
       "<table border=\"1\" class=\"dataframe\">\n",
       "  <thead>\n",
       "    <tr style=\"text-align: right;\">\n",
       "      <th></th>\n",
       "      <th>Asteroid</th>\n",
       "      <th>N-sig</th>\n",
       "      <th>Ref.</th>\n",
       "      <th>Approach Date</th>\n",
       "      <th>MMD(AU)</th>\n",
       "      <th>Vrel(km/s)</th>\n",
       "    </tr>\n",
       "  </thead>\n",
       "  <tbody>\n",
       "    <tr>\n",
       "      <th>0</th>\n",
       "      <td>1999 TO13</td>\n",
       "      <td>280</td>\n",
       "      <td>JPL#13</td>\n",
       "      <td>10-05-1999</td>\n",
       "      <td>0.0312</td>\n",
       "      <td>14.96</td>\n",
       "    </tr>\n",
       "    <tr>\n",
       "      <th>1</th>\n",
       "      <td>1999 SG10</td>\n",
       "      <td>690</td>\n",
       "      <td>JPL#22</td>\n",
       "      <td>10/14/1999</td>\n",
       "      <td>0.0909</td>\n",
       "      <td>19.77</td>\n",
       "    </tr>\n",
       "    <tr>\n",
       "      <th>2</th>\n",
       "      <td>1999 UR</td>\n",
       "      <td>320</td>\n",
       "      <td>JPL#02</td>\n",
       "      <td>10/22/1999</td>\n",
       "      <td>0.0470</td>\n",
       "      <td>10.01</td>\n",
       "    </tr>\n",
       "    <tr>\n",
       "      <th>3</th>\n",
       "      <td>1999 VF22</td>\n",
       "      <td>300</td>\n",
       "      <td>JPL#02</td>\n",
       "      <td>10/31/1999</td>\n",
       "      <td>0.0372</td>\n",
       "      <td>25.54</td>\n",
       "    </tr>\n",
       "    <tr>\n",
       "      <th>4</th>\n",
       "      <td>1999 VR6</td>\n",
       "      <td>110</td>\n",
       "      <td>JPL#04</td>\n",
       "      <td>11/18/1999</td>\n",
       "      <td>0.0759</td>\n",
       "      <td>21.58</td>\n",
       "    </tr>\n",
       "    <tr>\n",
       "      <th>...</th>\n",
       "      <td>...</td>\n",
       "      <td>...</td>\n",
       "      <td>...</td>\n",
       "      <td>...</td>\n",
       "      <td>...</td>\n",
       "      <td>...</td>\n",
       "    </tr>\n",
       "    <tr>\n",
       "      <th>493</th>\n",
       "      <td>Ptah</td>\n",
       "      <td>100000</td>\n",
       "      <td>JPL#08</td>\n",
       "      <td>03-04-2099</td>\n",
       "      <td>0.1219</td>\n",
       "      <td>9.63</td>\n",
       "    </tr>\n",
       "    <tr>\n",
       "      <th>494</th>\n",
       "      <td>Orpheus</td>\n",
       "      <td>180000</td>\n",
       "      <td>JPL#04</td>\n",
       "      <td>4/26/2099</td>\n",
       "      <td>0.1207</td>\n",
       "      <td>12.18</td>\n",
       "    </tr>\n",
       "    <tr>\n",
       "      <th>495</th>\n",
       "      <td>1997 BR</td>\n",
       "      <td>770000</td>\n",
       "      <td>JPL#05</td>\n",
       "      <td>6/25/2099</td>\n",
       "      <td>0.1912</td>\n",
       "      <td>10.24</td>\n",
       "    </tr>\n",
       "    <tr>\n",
       "      <th>496</th>\n",
       "      <td>Asclepius</td>\n",
       "      <td>59000</td>\n",
       "      <td>JPL#04</td>\n",
       "      <td>8/23/2099</td>\n",
       "      <td>0.0453</td>\n",
       "      <td>10.28</td>\n",
       "    </tr>\n",
       "    <tr>\n",
       "      <th>497</th>\n",
       "      <td>1989 UR</td>\n",
       "      <td>430000</td>\n",
       "      <td>JPL#18</td>\n",
       "      <td>11/29/2099</td>\n",
       "      <td>0.1044</td>\n",
       "      <td>9.26</td>\n",
       "    </tr>\n",
       "  </tbody>\n",
       "</table>\n",
       "<p>498 rows × 6 columns</p>\n",
       "</div>"
      ],
      "text/plain": [
       "                Asteroid   N-sig   Ref.    Approach Date  MMD(AU)  Vrel(km/s)\n",
       "0    1999 TO13               280  JPL#13      10-05-1999   0.0312       14.96\n",
       "1    1999 SG10               690  JPL#22      10/14/1999   0.0909       19.77\n",
       "2    1999 UR                 320  JPL#02      10/22/1999   0.0470       10.01\n",
       "3    1999 VF22               300  JPL#02      10/31/1999   0.0372       25.54\n",
       "4    1999 VR6                110  JPL#04      11/18/1999   0.0759       21.58\n",
       "..                   ...     ...       ...           ...      ...         ...\n",
       "493  Ptah                 100000  JPL#08      03-04-2099   0.1219        9.63\n",
       "494  Orpheus              180000  JPL#04       4/26/2099   0.1207       12.18\n",
       "495  1997 BR              770000  JPL#05       6/25/2099   0.1912       10.24\n",
       "496  Asclepius             59000  JPL#04       8/23/2099   0.0453       10.28\n",
       "497  1989 UR              430000    JPL#18    11/29/2099   0.1044        9.26\n",
       "\n",
       "[498 rows x 6 columns]"
      ]
     },
     "execution_count": 103,
     "metadata": {},
     "output_type": "execute_result"
    }
   ],
   "source": [
    "df"
   ]
  },
  {
   "cell_type": "code",
   "execution_count": 104,
   "id": "9efa6344",
   "metadata": {},
   "outputs": [
    {
     "data": {
      "text/plain": [
       "array(['1999 TO13          ', '1999 SG10          ',\n",
       "       '1999 UR            ', '1999 VF22          ',\n",
       "       '1999 VR6           ', '1999 KW4           ',\n",
       "       '1999 MN            ', '1999 JV6           ',\n",
       "       '1986 JK            ', '1998 BB10          ',\n",
       "       'Mithra             ', 'Hathor             ',\n",
       "       'Toutatis           ', '1994 XL1           ',\n",
       "       '1998 FG2           ', 'Cuno               ',\n",
       "       '1998 VD35          ', '1994 WR12          ',\n",
       "       '1998 WT            ', '1998 SF36          ',\n",
       "       '1986 PA            ', '1998 HD14          ',\n",
       "       '1998 ST27          ', '1998 WT24          ',\n",
       "       'Khufu              ', 'Nereus             ',\n",
       "       'Orpheus            ', '1999 JT6           ',\n",
       "       '1999 GU3           ', '1992 FE            ',\n",
       "       'Adonis             ', '1997 XF11          ',\n",
       "       '1999 DB7           ', 'Golevka            ',\n",
       "       '1998 FH12          ', '1994 PM            ',\n",
       "       '1978 CA            ', '1998 VS            ',\n",
       "       '1989 UQ            ', '1990 OS            ',\n",
       "       '1996 GT            ', '1998 UT18          ',\n",
       "       '1996 JG            ', '1995 CR            ',\n",
       "       'Minos              ', '1999 DJ4           ',\n",
       "       '1993 KH            ', 'Nyx                ',\n",
       "       '1988 XB            ', '1998 DV9           ',\n",
       "       '1999 RR28          ', '1992 UY4           ',\n",
       "       '1999 RQ36          ', 'Apollo             ',\n",
       "       '1997 XR2           ', 'Pan                ',\n",
       "       '1999 GS6           ', 'Ptah               ',\n",
       "       '1991 GO            ', '1998 VO            ',\n",
       "       '1999 FA            ', '1999 AQ10          ',\n",
       "       '1989 UR            ', 'Phaethon           ',\n",
       "       '1999 JU3           ', '1988 EG            ',\n",
       "       'Geographos         ', '1999 SO5           ',\n",
       "       '1991 DG            ', '1991 VH            ',\n",
       "       '1998 CS1           ', '1998 OR2           ',\n",
       "       '1998 SC15          ', '1996 FG3           ',\n",
       "       '1991 JW            ', '1994 CC            ',\n",
       "       '1996 EN            ', '1998 VF32          ',\n",
       "       '1999 JD6           ', '1998 HE3           ',\n",
       "       '1999 RD32          ', '1996 SK            ',\n",
       "       '1999 BJ8           ', 'Asclepius          ',\n",
       "       'Castalia           ', '1998 QC1           ',\n",
       "       '1999 CF9           ', '1998 ML14          ',\n",
       "       '1996 RG3           ', '1995 SA            ',\n",
       "       '1998 SS49          ', '1999 FN53          ',\n",
       "       'Icarus             ', '1994 AW1           ',\n",
       "       '1991 CS            ', '1998 HL3           ',\n",
       "       'Tantalus           ', '1990 UQ            ',\n",
       "       '1989 UP            ', 'Midas              ',\n",
       "       '1990 MU            ', '1998 OH            ',\n",
       "       '1998 HL1           ', '1997 BQ            ',\n",
       "       '1990 MF            ', '1993 BX3           ',\n",
       "       '1994 PC1           ', '1996 FO3           ',\n",
       "       '1989 JA            ', '1993 EA            ',\n",
       "       '1997 NC1           ', '1990 HA            ',\n",
       "       '1993 VB            ', '1998 HH49          ',\n",
       "       '1997 QK1           ', '1999 AN10          ',\n",
       "       '1991 EE            ', '1999 GK4           ',\n",
       "       '1998 WZ1           ', '1991 AQ            ',\n",
       "       '1997 BR            ', 'Anza               ',\n",
       "       'Wilson-Harrington  ', 'Oljato             ',\n",
       "       'Aristaeus          ', '1982 XB            ',\n",
       "       'Dionysus           '], dtype=object)"
      ]
     },
     "execution_count": 104,
     "metadata": {},
     "output_type": "execute_result"
    }
   ],
   "source": [
    "df['Asteroid'].unique()"
   ]
  },
  {
   "cell_type": "code",
   "execution_count": 105,
   "id": "bfa175df",
   "metadata": {},
   "outputs": [
    {
     "data": {
      "text/plain": [
       "<AxesSubplot:>"
      ]
     },
     "execution_count": 105,
     "metadata": {},
     "output_type": "execute_result"
    },
    {
     "data": {
      "image/png": "[encoded data removed]",
      "text/plain": [
       "<Figure size 720x720 with 2 Axes>"
      ]
     },
     "metadata": {
      "needs_background": "light"
     },
     "output_type": "display_data"
    }
   ],
   "source": [
    "plt.figure(figsize=(10,10))\n",
    "sns.heatmap(data=round(df.corr(),2), annot=True)"
   ]
  },
  {
   "cell_type": "code",
   "execution_count": null,
   "id": "c254fac8",
   "metadata": {},
   "outputs": [],
   "source": []
  },
  {
   "cell_type": "code",
   "execution_count": null,
   "id": "36c2e694",
   "metadata": {},
   "outputs": [],
   "source": []
  }
 ],
 "metadata": {
  "kernelspec": {
   "display_name": "Python 3 (ipykernel)",
   "language": "python",
   "name": "python3"
  },
  "language_info": {
   "codemirror_mode": {
    "name": "ipython",
    "version": 3
   },
   "file_extension": ".py",
   "mimetype": "text/x-python",
   "name": "python",
   "nbconvert_exporter": "python",
   "pygments_lexer": "ipython3",
   "version": "3.9.7"
  }
 },
 "nbformat": 4,
 "nbformat_minor": 5
}
